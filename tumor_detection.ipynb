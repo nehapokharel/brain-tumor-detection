{
  "nbformat": 4,
  "nbformat_minor": 0,
  "metadata": {
    "colab": {
      "name": "tumor_detection.ipynb",
      "provenance": [],
      "collapsed_sections": [],
      "authorship_tag": "ABX9TyPwx+3Z3mSJY+QRuDHhYS0U",
      "include_colab_link": true
    },
    "kernelspec": {
      "name": "python3",
      "display_name": "Python 3"
    },
    "language_info": {
      "name": "python"
    }
  },
  "cells": [
    {
      "cell_type": "markdown",
      "metadata": {
        "id": "view-in-github",
        "colab_type": "text"
      },
      "source": [
        "<a href=\"https://colab.research.google.com/github/nehapokharel/brain-tumor-detection/blob/main/tumor_detection.ipynb\" target=\"_parent\"><img src=\"https://colab.research.google.com/assets/colab-badge.svg\" alt=\"Open In Colab\"/></a>"
      ]
    },
    {
      "cell_type": "code",
      "metadata": {
        "id": "hR24aezAIyn4"
      },
      "source": [
        "#importing necessary libraries\n",
        "import os\n",
        "import skimage\n",
        "import numpy as np\n",
        "import pandas as pd\n",
        "from google.colab import drive\n",
        "import matplotlib.pyplot as plt\n",
        "import tensorflow.keras as keras\n",
        "from skimage import transform\n",
        "from sklearn.model_selection import train_test_split\n",
        "from sklearn.preprocessing import MultiLabelBinarizer\n",
        "from keras.layers.core import Dense, Dropout, Activation, Flatten\n",
        "from keras.layers.convolutional import Convolution2D, MaxPooling2D"
      ],
      "execution_count": 1,
      "outputs": []
    },
    {
      "cell_type": "code",
      "metadata": {
        "colab": {
          "base_uri": "https://localhost:8080/"
        },
        "id": "Bdk1XgciLC00",
        "outputId": "dcd2d718-1ab3-4f20-addf-1086d1ff92f1"
      },
      "source": [
        "#making content of google drive accessible\n",
        "drive.mount(\"/content/gdrive\")"
      ],
      "execution_count": 2,
      "outputs": [
        {
          "output_type": "stream",
          "name": "stdout",
          "text": [
            "Drive already mounted at /content/gdrive; to attempt to forcibly remount, call drive.mount(\"/content/gdrive\", force_remount=True).\n"
          ]
        }
      ]
    },
    {
      "cell_type": "code",
      "metadata": {
        "colab": {
          "base_uri": "https://localhost:8080/"
        },
        "id": "6MwJaFgULJYl",
        "outputId": "aeaae471-514a-46a9-e885-d7c79345f69f"
      },
      "source": [
        "!ls \"gdrive/MyDrive/MRI_BRAIN_TUMOR/dataset\""
      ],
      "execution_count": 3,
      "outputs": [
        {
          "output_type": "stream",
          "name": "stdout",
          "text": [
            "no  yes\n"
          ]
        }
      ]
    },
    {
      "cell_type": "code",
      "metadata": {
        "id": "RW8HLDqXLSzZ"
      },
      "source": [
        "classes = [\"yes\", \"no\"]\n",
        "n_classes = len(classes)"
      ],
      "execution_count": 4,
      "outputs": []
    },
    {
      "cell_type": "code",
      "metadata": {
        "id": "mW9y4VJURryU"
      },
      "source": [
        "def load_data():\n",
        "    \"\"\"This function loads the data and prepares it to be \n",
        "    used by th neneural network. It consists of:\n",
        "        1. loading images\n",
        "        2. `normalization`. Original pixel values are in range [0, 255], \n",
        "           but neural networks usually work better if the input values are in\n",
        "           range [0, 1].\n",
        "        3. resize the image \"\"\"  \n",
        "    x = []\n",
        "    y = []\n",
        "    path = \"gdrive/MyDrive/MRI_BRAIN_TUMOR/dataset\"\n",
        "    for i, c in enumerate(classes):\n",
        "        for file in os.listdir(os.path.join(path, c)):\n",
        "            if file.endswith(\".jpeg\") or file.endswith(\".jpg\"):\n",
        "                img = plt.imread(os.path.join(path, c, file))\n",
        "                img = img / 255.   \n",
        "                img = transform.resize(img, (32, 32), mode='constant')\n",
        "                img = img.astype('float32') \n",
        "                if len(img.shape) == 3 and img.shape[-1] == 3:\n",
        "                    x.append(img)\n",
        "                    y.append(i)  \n",
        "    x = np.stack(x, axis=0)\n",
        "    y = np.array(y)\n",
        "    print(f\"x shape: {x.shape}, y shape: {y.shape}\")\n",
        "    return x, y"
      ],
      "execution_count": 5,
      "outputs": []
    },
    {
      "cell_type": "code",
      "metadata": {
        "id": "hh5oyyZoRxyK",
        "colab": {
          "base_uri": "https://localhost:8080/"
        },
        "outputId": "bb3a638d-a2de-408f-e09b-9cc75279945a"
      },
      "source": [
        "x, y = load_data() #function call"
      ],
      "execution_count": 6,
      "outputs": [
        {
          "output_type": "stream",
          "name": "stdout",
          "text": [
            "x shape: (142, 32, 32, 3), y shape: (142,)\n"
          ]
        }
      ]
    },
    {
      "cell_type": "code",
      "metadata": {
        "id": "-bXy-yfTSWBA"
      },
      "source": [
        "#Splitting the dataset into train and test dataset\n",
        "X_train, X_test, y_train, y_test = train_test_split(x, y, test_size=0.2, shuffle=True, random_state=42)"
      ],
      "execution_count": 7,
      "outputs": []
    },
    {
      "cell_type": "markdown",
      "metadata": {
        "id": "0pZvhehZkE5_"
      },
      "source": [
        "# **Converting lists to numpy array**"
      ]
    },
    {
      "cell_type": "code",
      "metadata": {
        "id": "5Mz0ByTvkEAd"
      },
      "source": [
        "X_train=np.array(X_train)\n",
        "X_test=np.array(X_test)"
      ],
      "execution_count": 8,
      "outputs": []
    },
    {
      "cell_type": "code",
      "metadata": {
        "id": "9SJc6J1RkSE7"
      },
      "source": [
        "y_train = np.array(y_train)\n",
        "y_test = np.array(y_test)"
      ],
      "execution_count": 9,
      "outputs": []
    },
    {
      "cell_type": "code",
      "metadata": {
        "colab": {
          "base_uri": "https://localhost:8080/"
        },
        "id": "RFYnPDPvPNpu",
        "outputId": "d5c74b8f-191c-43b2-c21a-4143d81707b6"
      },
      "source": [
        "X_train.shape"
      ],
      "execution_count": 10,
      "outputs": [
        {
          "output_type": "execute_result",
          "data": {
            "text/plain": [
              "(113, 32, 32, 3)"
            ]
          },
          "metadata": {},
          "execution_count": 10
        }
      ]
    },
    {
      "cell_type": "markdown",
      "metadata": {
        "id": "hWcP1SDeKjSq"
      },
      "source": [
        ""
      ]
    },
    {
      "cell_type": "code",
      "metadata": {
        "colab": {
          "base_uri": "https://localhost:8080/"
        },
        "id": "yEjUEijIKjru",
        "outputId": "b5e345ef-0447-462a-b1a1-e539e49227d2"
      },
      "source": [
        "# Create the model\n",
        "\n",
        "model = keras.Sequential()\n",
        "\n",
        "model.add(keras.layers.Conv2D(filters=64,kernel_size=9, padding='same', activation='relu', input_shape=(32, 32,3))) \n",
        "model.add(keras.layers.MaxPooling2D(pool_size=2))\n",
        "model.add(keras.layers.Dropout(0.45))\n",
        "\n",
        "model.add(keras.layers.Conv2D(filters=64,kernel_size=9,padding='same', activation='relu'))\n",
        "model.add(keras.layers.MaxPooling2D(pool_size=2))\n",
        "model.add(keras.layers.Dropout(0.2))\n",
        "\n",
        "model.add(keras.layers.Conv2D(filters=64, kernel_size=9, padding='same', activation='relu'))\n",
        "model.add(keras.layers.MaxPooling2D(pool_size=2))\n",
        "model.add(keras.layers.Dropout(0.2))\n",
        "\n",
        "model.add(keras.layers.Flatten())\n",
        "\n",
        "model.add(keras.layers.Dense(512, activation='relu'))\n",
        "model.add(keras.layers.Dropout(0.2))\n",
        "\n",
        "\n",
        "model.add(keras.layers.Dense(1, activation='sigmoid'))\n",
        "\n",
        "# model summary\n",
        "model.summary()"
      ],
      "execution_count": 11,
      "outputs": [
        {
          "output_type": "stream",
          "name": "stdout",
          "text": [
            "Model: \"sequential\"\n",
            "_________________________________________________________________\n",
            " Layer (type)                Output Shape              Param #   \n",
            "=================================================================\n",
            " conv2d (Conv2D)             (None, 32, 32, 64)        15616     \n",
            "                                                                 \n",
            " max_pooling2d (MaxPooling2D  (None, 16, 16, 64)       0         \n",
            " )                                                               \n",
            "                                                                 \n",
            " dropout (Dropout)           (None, 16, 16, 64)        0         \n",
            "                                                                 \n",
            " conv2d_1 (Conv2D)           (None, 16, 16, 64)        331840    \n",
            "                                                                 \n",
            " max_pooling2d_1 (MaxPooling  (None, 8, 8, 64)         0         \n",
            " 2D)                                                             \n",
            "                                                                 \n",
            " dropout_1 (Dropout)         (None, 8, 8, 64)          0         \n",
            "                                                                 \n",
            " conv2d_2 (Conv2D)           (None, 8, 8, 64)          331840    \n",
            "                                                                 \n",
            " max_pooling2d_2 (MaxPooling  (None, 4, 4, 64)         0         \n",
            " 2D)                                                             \n",
            "                                                                 \n",
            " dropout_2 (Dropout)         (None, 4, 4, 64)          0         \n",
            "                                                                 \n",
            " flatten (Flatten)           (None, 1024)              0         \n",
            "                                                                 \n",
            " dense (Dense)               (None, 512)               524800    \n",
            "                                                                 \n",
            " dropout_3 (Dropout)         (None, 512)               0         \n",
            "                                                                 \n",
            " dense_1 (Dense)             (None, 1)                 513       \n",
            "                                                                 \n",
            "=================================================================\n",
            "Total params: 1,204,609\n",
            "Trainable params: 1,204,609\n",
            "Non-trainable params: 0\n",
            "_________________________________________________________________\n"
          ]
        }
      ]
    },
    {
      "cell_type": "code",
      "metadata": {
        "id": "hc7o9haQKvEc"
      },
      "source": [
        "base_learning_rate = 1e-4\n",
        "initial_epochs = 100\n",
        "\n",
        "opt = keras.optimizers.Adam(learning_rate=base_learning_rate)"
      ],
      "execution_count": 12,
      "outputs": []
    },
    {
      "cell_type": "code",
      "metadata": {
        "id": "PC5TSuYdMMvh"
      },
      "source": [
        "# Compile model\n",
        "model.compile(optimizer=opt,\n",
        "              loss='binary_crossentropy',\n",
        "              metrics=[keras.metrics.BinaryAccuracy()])"
      ],
      "execution_count": 13,
      "outputs": []
    },
    {
      "cell_type": "code",
      "source": [
        "my_callbacks = [\n",
        "    keras.callbacks.CSVLogger('gdrive/MyDrive/team_sathi/flog10.csv', separator=\",\", append=False),\n",
        "    keras.callbacks.EarlyStopping(monitor='loss', patience=5)\n",
        "]"
      ],
      "metadata": {
        "id": "wU3Q8dNa1Rlo"
      },
      "execution_count": 14,
      "outputs": []
    },
    {
      "cell_type": "code",
      "metadata": {
        "colab": {
          "base_uri": "https://localhost:8080/"
        },
        "id": "oeaCFEXyMVUU",
        "outputId": "5d339c74-2dcd-4d13-9b13-d535d8c18321"
      },
      "source": [
        "history = model.fit(X_train, y_train, epochs = initial_epochs, callbacks=my_callbacks, validation_data=(X_test, y_test))"
      ],
      "execution_count": 15,
      "outputs": [
        {
          "output_type": "stream",
          "name": "stdout",
          "text": [
            "Epoch 1/100\n",
            "4/4 [==============================] - 3s 658ms/step - loss: 0.6877 - binary_accuracy: 0.4956 - val_loss: 0.6879 - val_binary_accuracy: 0.5517\n",
            "Epoch 2/100\n",
            "4/4 [==============================] - 2s 581ms/step - loss: 0.6852 - binary_accuracy: 0.5664 - val_loss: 0.6879 - val_binary_accuracy: 0.6552\n",
            "Epoch 3/100\n",
            "4/4 [==============================] - 2s 580ms/step - loss: 0.6797 - binary_accuracy: 0.6637 - val_loss: 0.6838 - val_binary_accuracy: 0.6207\n",
            "Epoch 4/100\n",
            "4/4 [==============================] - 2s 574ms/step - loss: 0.6848 - binary_accuracy: 0.5752 - val_loss: 0.6778 - val_binary_accuracy: 0.6207\n",
            "Epoch 5/100\n",
            "4/4 [==============================] - 2s 579ms/step - loss: 0.6736 - binary_accuracy: 0.6106 - val_loss: 0.6794 - val_binary_accuracy: 0.6552\n",
            "Epoch 6/100\n",
            "4/4 [==============================] - 2s 569ms/step - loss: 0.6664 - binary_accuracy: 0.6372 - val_loss: 0.6762 - val_binary_accuracy: 0.6552\n",
            "Epoch 7/100\n",
            "4/4 [==============================] - 2s 570ms/step - loss: 0.6673 - binary_accuracy: 0.6372 - val_loss: 0.6730 - val_binary_accuracy: 0.6552\n",
            "Epoch 8/100\n",
            "4/4 [==============================] - 2s 578ms/step - loss: 0.6465 - binary_accuracy: 0.6814 - val_loss: 0.6701 - val_binary_accuracy: 0.6552\n",
            "Epoch 9/100\n",
            "4/4 [==============================] - 2s 575ms/step - loss: 0.6607 - binary_accuracy: 0.6460 - val_loss: 0.6672 - val_binary_accuracy: 0.6552\n",
            "Epoch 10/100\n",
            "4/4 [==============================] - 2s 572ms/step - loss: 0.6276 - binary_accuracy: 0.7257 - val_loss: 0.6671 - val_binary_accuracy: 0.6552\n",
            "Epoch 11/100\n",
            "4/4 [==============================] - 2s 578ms/step - loss: 0.6447 - binary_accuracy: 0.6372 - val_loss: 0.6706 - val_binary_accuracy: 0.6207\n",
            "Epoch 12/100\n",
            "4/4 [==============================] - 2s 581ms/step - loss: 0.6192 - binary_accuracy: 0.6991 - val_loss: 0.6717 - val_binary_accuracy: 0.6552\n",
            "Epoch 13/100\n",
            "4/4 [==============================] - 2s 578ms/step - loss: 0.6165 - binary_accuracy: 0.6814 - val_loss: 0.6710 - val_binary_accuracy: 0.6552\n",
            "Epoch 14/100\n",
            "4/4 [==============================] - 2s 572ms/step - loss: 0.5981 - binary_accuracy: 0.6814 - val_loss: 0.6713 - val_binary_accuracy: 0.6207\n",
            "Epoch 15/100\n",
            "4/4 [==============================] - 2s 576ms/step - loss: 0.6013 - binary_accuracy: 0.7080 - val_loss: 0.6829 - val_binary_accuracy: 0.6207\n",
            "Epoch 16/100\n",
            "4/4 [==============================] - 2s 586ms/step - loss: 0.5999 - binary_accuracy: 0.6814 - val_loss: 0.6801 - val_binary_accuracy: 0.6552\n",
            "Epoch 17/100\n",
            "4/4 [==============================] - 2s 581ms/step - loss: 0.6035 - binary_accuracy: 0.6726 - val_loss: 0.6778 - val_binary_accuracy: 0.6207\n",
            "Epoch 18/100\n",
            "4/4 [==============================] - 2s 580ms/step - loss: 0.6346 - binary_accuracy: 0.6726 - val_loss: 0.6739 - val_binary_accuracy: 0.6552\n",
            "Epoch 19/100\n",
            "4/4 [==============================] - 2s 578ms/step - loss: 0.5868 - binary_accuracy: 0.6814 - val_loss: 0.6754 - val_binary_accuracy: 0.6207\n",
            "Epoch 20/100\n",
            "4/4 [==============================] - 2s 572ms/step - loss: 0.6047 - binary_accuracy: 0.6903 - val_loss: 0.6699 - val_binary_accuracy: 0.6207\n",
            "Epoch 21/100\n",
            "4/4 [==============================] - 2s 579ms/step - loss: 0.5817 - binary_accuracy: 0.7257 - val_loss: 0.6701 - val_binary_accuracy: 0.6207\n",
            "Epoch 22/100\n",
            "4/4 [==============================] - 2s 580ms/step - loss: 0.5953 - binary_accuracy: 0.6726 - val_loss: 0.6676 - val_binary_accuracy: 0.6207\n",
            "Epoch 23/100\n",
            "4/4 [==============================] - 2s 572ms/step - loss: 0.6026 - binary_accuracy: 0.6726 - val_loss: 0.6734 - val_binary_accuracy: 0.6207\n",
            "Epoch 24/100\n",
            "4/4 [==============================] - 2s 566ms/step - loss: 0.5727 - binary_accuracy: 0.7168 - val_loss: 0.6712 - val_binary_accuracy: 0.6207\n",
            "Epoch 25/100\n",
            "4/4 [==============================] - 2s 571ms/step - loss: 0.5917 - binary_accuracy: 0.6903 - val_loss: 0.6676 - val_binary_accuracy: 0.6207\n",
            "Epoch 26/100\n",
            "4/4 [==============================] - 2s 565ms/step - loss: 0.5844 - binary_accuracy: 0.6991 - val_loss: 0.6698 - val_binary_accuracy: 0.6207\n",
            "Epoch 27/100\n",
            "4/4 [==============================] - 2s 564ms/step - loss: 0.5804 - binary_accuracy: 0.7080 - val_loss: 0.6628 - val_binary_accuracy: 0.6207\n",
            "Epoch 28/100\n",
            "4/4 [==============================] - 2s 575ms/step - loss: 0.5568 - binary_accuracy: 0.7257 - val_loss: 0.6648 - val_binary_accuracy: 0.6207\n",
            "Epoch 29/100\n",
            "4/4 [==============================] - 2s 572ms/step - loss: 0.5557 - binary_accuracy: 0.7434 - val_loss: 0.6662 - val_binary_accuracy: 0.6207\n",
            "Epoch 30/100\n",
            "4/4 [==============================] - 2s 579ms/step - loss: 0.5683 - binary_accuracy: 0.7080 - val_loss: 0.6639 - val_binary_accuracy: 0.5862\n",
            "Epoch 31/100\n",
            "4/4 [==============================] - 2s 576ms/step - loss: 0.5339 - binary_accuracy: 0.7080 - val_loss: 0.6830 - val_binary_accuracy: 0.6207\n",
            "Epoch 32/100\n",
            "4/4 [==============================] - 2s 576ms/step - loss: 0.5648 - binary_accuracy: 0.6991 - val_loss: 0.6677 - val_binary_accuracy: 0.6207\n",
            "Epoch 33/100\n",
            "4/4 [==============================] - 2s 580ms/step - loss: 0.5330 - binary_accuracy: 0.7522 - val_loss: 0.6568 - val_binary_accuracy: 0.5862\n",
            "Epoch 34/100\n",
            "4/4 [==============================] - 2s 566ms/step - loss: 0.5344 - binary_accuracy: 0.7080 - val_loss: 0.6704 - val_binary_accuracy: 0.6552\n",
            "Epoch 35/100\n",
            "4/4 [==============================] - 2s 570ms/step - loss: 0.5278 - binary_accuracy: 0.7788 - val_loss: 0.6622 - val_binary_accuracy: 0.6552\n",
            "Epoch 36/100\n",
            "4/4 [==============================] - 2s 567ms/step - loss: 0.5150 - binary_accuracy: 0.7522 - val_loss: 0.6488 - val_binary_accuracy: 0.6207\n",
            "Epoch 37/100\n",
            "4/4 [==============================] - 2s 574ms/step - loss: 0.5160 - binary_accuracy: 0.7522 - val_loss: 0.6525 - val_binary_accuracy: 0.6552\n",
            "Epoch 38/100\n",
            "4/4 [==============================] - 2s 564ms/step - loss: 0.5280 - binary_accuracy: 0.7257 - val_loss: 0.6650 - val_binary_accuracy: 0.6552\n",
            "Epoch 39/100\n",
            "4/4 [==============================] - 2s 573ms/step - loss: 0.5107 - binary_accuracy: 0.7788 - val_loss: 0.6358 - val_binary_accuracy: 0.5862\n",
            "Epoch 40/100\n",
            "4/4 [==============================] - 2s 575ms/step - loss: 0.5089 - binary_accuracy: 0.7611 - val_loss: 0.6397 - val_binary_accuracy: 0.6552\n",
            "Epoch 41/100\n",
            "4/4 [==============================] - 2s 572ms/step - loss: 0.4916 - binary_accuracy: 0.7965 - val_loss: 0.6640 - val_binary_accuracy: 0.6552\n",
            "Epoch 42/100\n",
            "4/4 [==============================] - 2s 587ms/step - loss: 0.5172 - binary_accuracy: 0.7257 - val_loss: 0.6283 - val_binary_accuracy: 0.6552\n",
            "Epoch 43/100\n",
            "4/4 [==============================] - 2s 571ms/step - loss: 0.5192 - binary_accuracy: 0.6903 - val_loss: 0.6483 - val_binary_accuracy: 0.6552\n",
            "Epoch 44/100\n",
            "4/4 [==============================] - 2s 588ms/step - loss: 0.4727 - binary_accuracy: 0.8142 - val_loss: 0.6311 - val_binary_accuracy: 0.6552\n",
            "Epoch 45/100\n",
            "4/4 [==============================] - 2s 576ms/step - loss: 0.4785 - binary_accuracy: 0.7434 - val_loss: 0.6324 - val_binary_accuracy: 0.6552\n",
            "Epoch 46/100\n",
            "4/4 [==============================] - 2s 572ms/step - loss: 0.4567 - binary_accuracy: 0.7699 - val_loss: 0.6491 - val_binary_accuracy: 0.7241\n",
            "Epoch 47/100\n",
            "4/4 [==============================] - 2s 575ms/step - loss: 0.4654 - binary_accuracy: 0.7699 - val_loss: 0.6166 - val_binary_accuracy: 0.6552\n",
            "Epoch 48/100\n",
            "4/4 [==============================] - 2s 586ms/step - loss: 0.4800 - binary_accuracy: 0.7699 - val_loss: 0.6205 - val_binary_accuracy: 0.7241\n",
            "Epoch 49/100\n",
            "4/4 [==============================] - 2s 574ms/step - loss: 0.4402 - binary_accuracy: 0.7788 - val_loss: 0.6028 - val_binary_accuracy: 0.6897\n",
            "Epoch 50/100\n",
            "4/4 [==============================] - 2s 572ms/step - loss: 0.4481 - binary_accuracy: 0.7788 - val_loss: 0.5938 - val_binary_accuracy: 0.6897\n",
            "Epoch 51/100\n",
            "4/4 [==============================] - 2s 577ms/step - loss: 0.4372 - binary_accuracy: 0.7699 - val_loss: 0.6047 - val_binary_accuracy: 0.7586\n",
            "Epoch 52/100\n",
            "4/4 [==============================] - 2s 574ms/step - loss: 0.4368 - binary_accuracy: 0.7876 - val_loss: 0.5814 - val_binary_accuracy: 0.6897\n",
            "Epoch 53/100\n",
            "4/4 [==============================] - 2s 569ms/step - loss: 0.4347 - binary_accuracy: 0.7876 - val_loss: 0.6078 - val_binary_accuracy: 0.7241\n",
            "Epoch 54/100\n",
            "4/4 [==============================] - 2s 571ms/step - loss: 0.4356 - binary_accuracy: 0.8053 - val_loss: 0.5862 - val_binary_accuracy: 0.7586\n",
            "Epoch 55/100\n",
            "4/4 [==============================] - 2s 578ms/step - loss: 0.4037 - binary_accuracy: 0.8319 - val_loss: 0.5687 - val_binary_accuracy: 0.7931\n",
            "Epoch 56/100\n",
            "4/4 [==============================] - 2s 572ms/step - loss: 0.4003 - binary_accuracy: 0.7965 - val_loss: 0.5869 - val_binary_accuracy: 0.7586\n",
            "Epoch 57/100\n",
            "4/4 [==============================] - 2s 580ms/step - loss: 0.3876 - binary_accuracy: 0.7965 - val_loss: 0.5778 - val_binary_accuracy: 0.7586\n",
            "Epoch 58/100\n",
            "4/4 [==============================] - 2s 570ms/step - loss: 0.3906 - binary_accuracy: 0.8142 - val_loss: 0.5745 - val_binary_accuracy: 0.7931\n",
            "Epoch 59/100\n",
            "4/4 [==============================] - 2s 571ms/step - loss: 0.3629 - binary_accuracy: 0.8230 - val_loss: 0.5717 - val_binary_accuracy: 0.7931\n",
            "Epoch 60/100\n",
            "4/4 [==============================] - 2s 571ms/step - loss: 0.3668 - binary_accuracy: 0.8053 - val_loss: 0.6201 - val_binary_accuracy: 0.7241\n",
            "Epoch 61/100\n",
            "4/4 [==============================] - 2s 573ms/step - loss: 0.3707 - binary_accuracy: 0.8230 - val_loss: 0.5788 - val_binary_accuracy: 0.7586\n",
            "Epoch 62/100\n",
            "4/4 [==============================] - 2s 573ms/step - loss: 0.3818 - binary_accuracy: 0.8053 - val_loss: 0.5548 - val_binary_accuracy: 0.8276\n",
            "Epoch 63/100\n",
            "4/4 [==============================] - 2s 564ms/step - loss: 0.3496 - binary_accuracy: 0.8407 - val_loss: 0.5858 - val_binary_accuracy: 0.7241\n",
            "Epoch 64/100\n",
            "4/4 [==============================] - 2s 574ms/step - loss: 0.3682 - binary_accuracy: 0.8230 - val_loss: 0.5712 - val_binary_accuracy: 0.7586\n",
            "Epoch 65/100\n",
            "4/4 [==============================] - 2s 569ms/step - loss: 0.3312 - binary_accuracy: 0.8496 - val_loss: 0.5555 - val_binary_accuracy: 0.7931\n",
            "Epoch 66/100\n",
            "4/4 [==============================] - 2s 581ms/step - loss: 0.3352 - binary_accuracy: 0.8496 - val_loss: 0.5764 - val_binary_accuracy: 0.7586\n",
            "Epoch 67/100\n",
            "4/4 [==============================] - 2s 567ms/step - loss: 0.3361 - binary_accuracy: 0.8142 - val_loss: 0.5586 - val_binary_accuracy: 0.7586\n",
            "Epoch 68/100\n",
            "4/4 [==============================] - 2s 569ms/step - loss: 0.3319 - binary_accuracy: 0.8230 - val_loss: 0.6087 - val_binary_accuracy: 0.7586\n",
            "Epoch 69/100\n",
            "4/4 [==============================] - 2s 571ms/step - loss: 0.3083 - binary_accuracy: 0.8761 - val_loss: 0.5626 - val_binary_accuracy: 0.7586\n",
            "Epoch 70/100\n",
            "4/4 [==============================] - 2s 575ms/step - loss: 0.2952 - binary_accuracy: 0.8761 - val_loss: 0.5993 - val_binary_accuracy: 0.7931\n",
            "Epoch 71/100\n",
            "4/4 [==============================] - 2s 581ms/step - loss: 0.3128 - binary_accuracy: 0.8673 - val_loss: 0.5940 - val_binary_accuracy: 0.7931\n",
            "Epoch 72/100\n",
            "4/4 [==============================] - 2s 574ms/step - loss: 0.2988 - binary_accuracy: 0.8673 - val_loss: 0.5464 - val_binary_accuracy: 0.7931\n",
            "Epoch 73/100\n",
            "4/4 [==============================] - 2s 574ms/step - loss: 0.2868 - binary_accuracy: 0.8761 - val_loss: 0.7050 - val_binary_accuracy: 0.7241\n",
            "Epoch 74/100\n",
            "4/4 [==============================] - 2s 566ms/step - loss: 0.2984 - binary_accuracy: 0.8673 - val_loss: 0.5543 - val_binary_accuracy: 0.7931\n",
            "Epoch 75/100\n",
            "4/4 [==============================] - 2s 575ms/step - loss: 0.3092 - binary_accuracy: 0.8319 - val_loss: 0.5978 - val_binary_accuracy: 0.7931\n",
            "Epoch 76/100\n",
            "4/4 [==============================] - 2s 575ms/step - loss: 0.2730 - binary_accuracy: 0.8850 - val_loss: 0.5940 - val_binary_accuracy: 0.7931\n",
            "Epoch 77/100\n",
            "4/4 [==============================] - 2s 570ms/step - loss: 0.2720 - binary_accuracy: 0.8850 - val_loss: 0.5245 - val_binary_accuracy: 0.7931\n",
            "Epoch 78/100\n",
            "4/4 [==============================] - 2s 575ms/step - loss: 0.2622 - binary_accuracy: 0.8938 - val_loss: 0.6304 - val_binary_accuracy: 0.7931\n",
            "Epoch 79/100\n",
            "4/4 [==============================] - 2s 554ms/step - loss: 0.2556 - binary_accuracy: 0.9027 - val_loss: 0.5592 - val_binary_accuracy: 0.7931\n",
            "Epoch 80/100\n",
            "4/4 [==============================] - 2s 563ms/step - loss: 0.2438 - binary_accuracy: 0.9027 - val_loss: 0.5594 - val_binary_accuracy: 0.7931\n",
            "Epoch 81/100\n",
            "4/4 [==============================] - 2s 563ms/step - loss: 0.2403 - binary_accuracy: 0.9204 - val_loss: 0.6257 - val_binary_accuracy: 0.7931\n",
            "Epoch 82/100\n",
            "4/4 [==============================] - 2s 559ms/step - loss: 0.2124 - binary_accuracy: 0.9204 - val_loss: 0.5571 - val_binary_accuracy: 0.7931\n",
            "Epoch 83/100\n",
            "4/4 [==============================] - 2s 567ms/step - loss: 0.2122 - binary_accuracy: 0.9204 - val_loss: 0.6171 - val_binary_accuracy: 0.8276\n",
            "Epoch 84/100\n",
            "4/4 [==============================] - 2s 568ms/step - loss: 0.2215 - binary_accuracy: 0.8584 - val_loss: 0.5727 - val_binary_accuracy: 0.7931\n",
            "Epoch 85/100\n",
            "4/4 [==============================] - 2s 577ms/step - loss: 0.1896 - binary_accuracy: 0.9381 - val_loss: 0.6072 - val_binary_accuracy: 0.8276\n",
            "Epoch 86/100\n",
            "4/4 [==============================] - 2s 577ms/step - loss: 0.2115 - binary_accuracy: 0.9292 - val_loss: 0.5869 - val_binary_accuracy: 0.7931\n",
            "Epoch 87/100\n",
            "4/4 [==============================] - 2s 570ms/step - loss: 0.2360 - binary_accuracy: 0.8938 - val_loss: 0.6403 - val_binary_accuracy: 0.8276\n",
            "Epoch 88/100\n",
            "4/4 [==============================] - 2s 571ms/step - loss: 0.2218 - binary_accuracy: 0.8938 - val_loss: 0.6161 - val_binary_accuracy: 0.8276\n",
            "Epoch 89/100\n",
            "4/4 [==============================] - 2s 580ms/step - loss: 0.2082 - binary_accuracy: 0.9115 - val_loss: 0.6255 - val_binary_accuracy: 0.8276\n",
            "Epoch 90/100\n",
            "4/4 [==============================] - 2s 573ms/step - loss: 0.1967 - binary_accuracy: 0.9292 - val_loss: 0.5879 - val_binary_accuracy: 0.8276\n"
          ]
        }
      ]
    },
    {
      "cell_type": "code",
      "source": [
        "acc = history.history['binary_accuracy']\n",
        "val_acc = history.history['val_binary_accuracy']\n",
        "\n",
        "loss = history.history['loss']\n",
        "val_loss = history.history['val_loss']\n",
        "\n",
        "plt.plot(history.history['binary_accuracy'])\n",
        "plt.plot(history.history['val_binary_accuracy'])\n",
        "plt.title('model accuracy')\n",
        "plt.ylabel('accuracy')\n",
        "plt.xlabel('epoch')\n",
        "plt.legend(['train', 'test'], loc='upper left')\n",
        "plt.show()"
      ],
      "metadata": {
        "id": "16IdG381rMiN",
        "colab": {
          "base_uri": "https://localhost:8080/",
          "height": 295
        },
        "outputId": "1b292dea-eed6-476d-859e-c3afa8d481f2"
      },
      "execution_count": 16,
      "outputs": [
        {
          "output_type": "display_data",
          "data": {
            "image/png": "[encoded data removed]",
            "text/plain": [
              "<Figure size 432x288 with 1 Axes>"
            ]
          },
          "metadata": {
            "needs_background": "light"
          }
        }
      ]
    },
    {
      "cell_type": "code",
      "source": [
        "plt.plot(history.history['loss'])\n",
        "plt.plot(history.history['val_loss'])\n",
        "plt.title('model loss')\n",
        "plt.ylabel('loss')\n",
        "plt.xlabel('epoch')\n",
        "plt.legend(['train', 'test'], loc='upper left')\n",
        "plt.show()"
      ],
      "metadata": {
        "colab": {
          "base_uri": "https://localhost:8080/",
          "height": 295
        },
        "id": "lQff_7QltC4p",
        "outputId": "445a2118-c729-453b-dea2-0f0561881446"
      },
      "execution_count": 17,
      "outputs": [
        {
          "output_type": "display_data",
          "data": {
            "image/png": "[encoded data removed]",
            "text/plain": [
              "<Figure size 432x288 with 1 Axes>"
            ]
          },
          "metadata": {
            "needs_background": "light"
          }
        }
      ]
    },
    {
      "cell_type": "code",
      "source": [
        ""
      ],
      "metadata": {
        "id": "zikbl0CNtDQO"
      },
      "execution_count": 17,
      "outputs": []
    }
  ]
}