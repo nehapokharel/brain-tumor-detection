{
  "nbformat": 4,
  "nbformat_minor": 0,
  "metadata": {
    "colab": {
      "name": "tumor_detection.ipynb",
      "provenance": [],
      "collapsed_sections": [],
      "authorship_tag": "ABX9TyOtbXOB3WESqD1Wzf2jBwvQ",
      "include_colab_link": true
    },
    "kernelspec": {
      "name": "python3",
      "display_name": "Python 3"
    },
    "language_info": {
      "name": "python"
    }
  },
  "cells": [
    {
      "cell_type": "markdown",
      "metadata": {
        "id": "view-in-github",
        "colab_type": "text"
      },
      "source": [
        "<a href=\"https://colab.research.google.com/github/nehapokharel/brain-tumor-detection/blob/main/tumor_detection.ipynb\" target=\"_parent\"><img src=\"https://colab.research.google.com/assets/colab-badge.svg\" alt=\"Open In Colab\"/></a>"
      ]
    },
    {
      "cell_type": "code",
      "metadata": {
        "id": "hR24aezAIyn4"
      },
      "source": [
        "#importing necessary libraries\n",
        "import os\n",
        "import skimage\n",
        "import numpy as np\n",
        "import pandas as pd\n",
        "from google.colab import drive\n",
        "import matplotlib.pyplot as plt\n",
        "import tensorflow.keras as keras\n",
        "from skimage import transform\n",
        "from sklearn.model_selection import train_test_split\n",
        "from sklearn.preprocessing import MultiLabelBinarizer\n",
        "from keras.layers.core import Dense, Dropout, Activation, Flatten\n",
        "from keras.layers.convolutional import Convolution2D, MaxPooling2D"
      ],
      "execution_count": 1,
      "outputs": []
    },
    {
      "cell_type": "code",
      "metadata": {
        "colab": {
          "base_uri": "https://localhost:8080/"
        },
        "id": "Bdk1XgciLC00",
        "outputId": "918811fa-0094-4ae5-e8f0-c37a0511492c"
      },
      "source": [
        "#making content of google drive accessible\n",
        "drive.mount(\"/content/gdrive\")"
      ],
      "execution_count": 2,
      "outputs": [
        {
          "output_type": "stream",
          "name": "stdout",
          "text": [
            "Mounted at /content/gdrive\n"
          ]
        }
      ]
    },
    {
      "cell_type": "code",
      "metadata": {
        "colab": {
          "base_uri": "https://localhost:8080/"
        },
        "id": "6MwJaFgULJYl",
        "outputId": "6d9df251-37cd-4f20-9c8f-2932e17e98f6"
      },
      "source": [
        "!ls \"gdrive/MyDrive/MRI_BRAIN_TUMOR/dataset\""
      ],
      "execution_count": 3,
      "outputs": [
        {
          "output_type": "stream",
          "name": "stdout",
          "text": [
            "no  yes\n"
          ]
        }
      ]
    },
    {
      "cell_type": "code",
      "metadata": {
        "id": "RW8HLDqXLSzZ"
      },
      "source": [
        "classes = [\"yes\", \"no\"]\n",
        "n_classes = len(classes)"
      ],
      "execution_count": 4,
      "outputs": []
    },
    {
      "cell_type": "code",
      "metadata": {
        "id": "mW9y4VJURryU"
      },
      "source": [
        "def load_data():\n",
        "    \"\"\"This function loads the data and prepares it to be \n",
        "    used by th neneural network. It consists of:\n",
        "        1. loading images\n",
        "        2. `normalization`. Original pixel values are in range [0, 255], \n",
        "           but neural networks usually work better if the input values are in\n",
        "           range [0, 1].\n",
        "        3. resize the image \"\"\"  \n",
        "    x = []\n",
        "    y = []\n",
        "    path = \"gdrive/MyDrive/MRI_BRAIN_TUMOR/dataset\"\n",
        "    for i, c in enumerate(classes):\n",
        "        for file in os.listdir(os.path.join(path, c)):\n",
        "            if file.endswith(\".jpeg\") or file.endswith(\".jpg\"):\n",
        "                img = plt.imread(os.path.join(path, c, file))\n",
        "                img = img / 255.   \n",
        "                img = transform.resize(img, (32, 32), mode='constant')\n",
        "                img = img.astype('float32') \n",
        "                if len(img.shape) == 3 and img.shape[-1] == 3:\n",
        "                    x.append(img)\n",
        "                    y.append(i)  \n",
        "    x = np.stack(x, axis=0)\n",
        "    y = np.array(y)\n",
        "    print(f\"x shape: {x.shape}, y shape: {y.shape}\")\n",
        "    return x, y"
      ],
      "execution_count": 18,
      "outputs": []
    },
    {
      "cell_type": "code",
      "metadata": {
        "id": "hh5oyyZoRxyK",
        "colab": {
          "base_uri": "https://localhost:8080/"
        },
        "outputId": "ed5f74f9-a866-4ccd-a751-a5a2bd604978"
      },
      "source": [
        "x, y = load_data() #function call"
      ],
      "execution_count": 19,
      "outputs": [
        {
          "output_type": "stream",
          "name": "stdout",
          "text": [
            "x shape: (142, 32, 32, 3), y shape: (142,)\n"
          ]
        }
      ]
    },
    {
      "cell_type": "code",
      "metadata": {
        "id": "-bXy-yfTSWBA"
      },
      "source": [
        "#Splitting the dataset into train and test dataset\n",
        "X_train, X_test, y_train, y_test = train_test_split(x, y, test_size=0.2, shuffle=True, random_state=42)"
      ],
      "execution_count": 21,
      "outputs": []
    },
    {
      "cell_type": "markdown",
      "metadata": {
        "id": "0pZvhehZkE5_"
      },
      "source": [
        "# **Converting lists to numpy array**"
      ]
    },
    {
      "cell_type": "code",
      "metadata": {
        "id": "5Mz0ByTvkEAd"
      },
      "source": [
        "X_train=np.array(X_train)\n",
        "X_test=np.array(X_test)"
      ],
      "execution_count": 22,
      "outputs": []
    },
    {
      "cell_type": "code",
      "metadata": {
        "id": "9SJc6J1RkSE7"
      },
      "source": [
        "y_train = np.array(y_train)\n",
        "y_test = np.array(y_test)"
      ],
      "execution_count": 23,
      "outputs": []
    },
    {
      "cell_type": "code",
      "metadata": {
        "colab": {
          "base_uri": "https://localhost:8080/"
        },
        "id": "RFYnPDPvPNpu",
        "outputId": "946b3f16-24f7-4584-afb4-118a423070e7"
      },
      "source": [
        "X_train.shape"
      ],
      "execution_count": 24,
      "outputs": [
        {
          "output_type": "execute_result",
          "data": {
            "text/plain": [
              "(113, 32, 32, 3)"
            ]
          },
          "metadata": {},
          "execution_count": 24
        }
      ]
    },
    {
      "cell_type": "markdown",
      "metadata": {
        "id": "hWcP1SDeKjSq"
      },
      "source": [
        ""
      ]
    },
    {
      "cell_type": "code",
      "metadata": {
        "colab": {
          "base_uri": "https://localhost:8080/"
        },
        "id": "yEjUEijIKjru",
        "outputId": "5a288037-7e1c-4b83-8dd2-2b33dfcbd6c1"
      },
      "source": [
        "# Create the model\n",
        "\n",
        "model = keras.Sequential()\n",
        "\n",
        "model.add(keras.layers.Conv2D(filters=16,kernel_size=9, padding='same', activation='relu', input_shape=(32, 32,3))) \n",
        "model.add(keras.layers.MaxPooling2D(pool_size=2))\n",
        "model.add(keras.layers.Dropout(0.45))\n",
        "\n",
        "model.add(keras.layers.Conv2D(filters=16,kernel_size=9,padding='same', activation='relu'))\n",
        "model.add(keras.layers.MaxPooling2D(pool_size=2))\n",
        "model.add(keras.layers.Dropout(0.25))\n",
        "\n",
        "model.add(keras.layers.Conv2D(filters=36, kernel_size=9, padding='same', activation='relu'))\n",
        "model.add(keras.layers.MaxPooling2D(pool_size=2))\n",
        "model.add(keras.layers.Dropout(0.25))\n",
        "\n",
        "model.add(keras.layers.Flatten())\n",
        "\n",
        "model.add(keras.layers.Dense(512, activation='relu'))\n",
        "model.add(keras.layers.Dropout(0.15))\n",
        "\n",
        "\n",
        "model.add(keras.layers.Dense(1, activation='sigmoid'))\n",
        "\n",
        "# model summary\n",
        "model.summary()"
      ],
      "execution_count": 25,
      "outputs": [
        {
          "output_type": "stream",
          "name": "stdout",
          "text": [
            "Model: \"sequential_1\"\n",
            "_________________________________________________________________\n",
            " Layer (type)                Output Shape              Param #   \n",
            "=================================================================\n",
            " conv2d_3 (Conv2D)           (None, 32, 32, 16)        3904      \n",
            "                                                                 \n",
            " max_pooling2d_3 (MaxPooling  (None, 16, 16, 16)       0         \n",
            " 2D)                                                             \n",
            "                                                                 \n",
            " dropout_4 (Dropout)         (None, 16, 16, 16)        0         \n",
            "                                                                 \n",
            " conv2d_4 (Conv2D)           (None, 16, 16, 16)        20752     \n",
            "                                                                 \n",
            " max_pooling2d_4 (MaxPooling  (None, 8, 8, 16)         0         \n",
            " 2D)                                                             \n",
            "                                                                 \n",
            " dropout_5 (Dropout)         (None, 8, 8, 16)          0         \n",
            "                                                                 \n",
            " conv2d_5 (Conv2D)           (None, 8, 8, 36)          46692     \n",
            "                                                                 \n",
            " max_pooling2d_5 (MaxPooling  (None, 4, 4, 36)         0         \n",
            " 2D)                                                             \n",
            "                                                                 \n",
            " dropout_6 (Dropout)         (None, 4, 4, 36)          0         \n",
            "                                                                 \n",
            " flatten_1 (Flatten)         (None, 576)               0         \n",
            "                                                                 \n",
            " dense_2 (Dense)             (None, 512)               295424    \n",
            "                                                                 \n",
            " dropout_7 (Dropout)         (None, 512)               0         \n",
            "                                                                 \n",
            " dense_3 (Dense)             (None, 1)                 513       \n",
            "                                                                 \n",
            "=================================================================\n",
            "Total params: 367,285\n",
            "Trainable params: 367,285\n",
            "Non-trainable params: 0\n",
            "_________________________________________________________________\n"
          ]
        }
      ]
    },
    {
      "cell_type": "code",
      "metadata": {
        "id": "hc7o9haQKvEc"
      },
      "source": [
        "base_learning_rate = 1e-4\n",
        "initial_epochs = 50\n",
        "\n",
        "opt = keras.optimizers.Adam(learning_rate=base_learning_rate)"
      ],
      "execution_count": 26,
      "outputs": []
    },
    {
      "cell_type": "code",
      "metadata": {
        "id": "PC5TSuYdMMvh"
      },
      "source": [
        "# Compile model\n",
        "model.compile(optimizer=opt,\n",
        "              loss='binary_crossentropy',\n",
        "              metrics=[keras.metrics.BinaryAccuracy()])"
      ],
      "execution_count": 27,
      "outputs": []
    },
    {
      "cell_type": "code",
      "metadata": {
        "colab": {
          "base_uri": "https://localhost:8080/"
        },
        "id": "oeaCFEXyMVUU",
        "outputId": "ba3cc437-db77-4d0e-b5a2-31a11e5c0df9"
      },
      "source": [
        "history = model.fit(X_train, y_train, epochs = initial_epochs, validation_data=(X_test, y_test))"
      ],
      "execution_count": 28,
      "outputs": [
        {
          "output_type": "stream",
          "name": "stdout",
          "text": [
            "Epoch 1/50\n",
            "4/4 [==============================] - 2s 222ms/step - loss: 0.6953 - binary_accuracy: 0.4779 - val_loss: 0.6811 - val_binary_accuracy: 0.5517\n",
            "Epoch 2/50\n",
            "4/4 [==============================] - 1s 155ms/step - loss: 0.6934 - binary_accuracy: 0.4956 - val_loss: 0.6854 - val_binary_accuracy: 0.6552\n",
            "Epoch 3/50\n",
            "4/4 [==============================] - 1s 151ms/step - loss: 0.6882 - binary_accuracy: 0.5487 - val_loss: 0.6884 - val_binary_accuracy: 0.5862\n",
            "Epoch 4/50\n",
            "4/4 [==============================] - 1s 153ms/step - loss: 0.6935 - binary_accuracy: 0.4956 - val_loss: 0.6889 - val_binary_accuracy: 0.5517\n",
            "Epoch 5/50\n",
            "4/4 [==============================] - 1s 149ms/step - loss: 0.6839 - binary_accuracy: 0.5487 - val_loss: 0.6893 - val_binary_accuracy: 0.5517\n",
            "Epoch 6/50\n",
            "4/4 [==============================] - 1s 148ms/step - loss: 0.6804 - binary_accuracy: 0.5664 - val_loss: 0.6875 - val_binary_accuracy: 0.5862\n",
            "Epoch 7/50\n",
            "4/4 [==============================] - 1s 154ms/step - loss: 0.6809 - binary_accuracy: 0.5841 - val_loss: 0.6853 - val_binary_accuracy: 0.5862\n",
            "Epoch 8/50\n",
            "4/4 [==============================] - 1s 149ms/step - loss: 0.6899 - binary_accuracy: 0.5487 - val_loss: 0.6822 - val_binary_accuracy: 0.6207\n",
            "Epoch 9/50\n",
            "4/4 [==============================] - 1s 154ms/step - loss: 0.6812 - binary_accuracy: 0.5575 - val_loss: 0.6814 - val_binary_accuracy: 0.6207\n",
            "Epoch 10/50\n",
            "4/4 [==============================] - 1s 151ms/step - loss: 0.6814 - binary_accuracy: 0.5575 - val_loss: 0.6805 - val_binary_accuracy: 0.6552\n",
            "Epoch 11/50\n",
            "4/4 [==============================] - 1s 149ms/step - loss: 0.6860 - binary_accuracy: 0.4779 - val_loss: 0.6799 - val_binary_accuracy: 0.6552\n",
            "Epoch 12/50\n",
            "4/4 [==============================] - 1s 155ms/step - loss: 0.6689 - binary_accuracy: 0.5398 - val_loss: 0.6800 - val_binary_accuracy: 0.5862\n",
            "Epoch 13/50\n",
            "4/4 [==============================] - 1s 148ms/step - loss: 0.6752 - binary_accuracy: 0.5841 - val_loss: 0.6808 - val_binary_accuracy: 0.6207\n",
            "Epoch 14/50\n",
            "4/4 [==============================] - 1s 155ms/step - loss: 0.6700 - binary_accuracy: 0.6195 - val_loss: 0.6828 - val_binary_accuracy: 0.5862\n",
            "Epoch 15/50\n",
            "4/4 [==============================] - 1s 149ms/step - loss: 0.6654 - binary_accuracy: 0.6460 - val_loss: 0.6832 - val_binary_accuracy: 0.5862\n",
            "Epoch 16/50\n",
            "4/4 [==============================] - 1s 150ms/step - loss: 0.6626 - binary_accuracy: 0.6814 - val_loss: 0.6809 - val_binary_accuracy: 0.6207\n",
            "Epoch 17/50\n",
            "4/4 [==============================] - 1s 155ms/step - loss: 0.6658 - binary_accuracy: 0.6283 - val_loss: 0.6798 - val_binary_accuracy: 0.6207\n",
            "Epoch 18/50\n",
            "4/4 [==============================] - 1s 154ms/step - loss: 0.6533 - binary_accuracy: 0.6549 - val_loss: 0.6756 - val_binary_accuracy: 0.6207\n",
            "Epoch 19/50\n",
            "4/4 [==============================] - 1s 152ms/step - loss: 0.6692 - binary_accuracy: 0.6195 - val_loss: 0.6739 - val_binary_accuracy: 0.6207\n",
            "Epoch 20/50\n",
            "4/4 [==============================] - 1s 152ms/step - loss: 0.6520 - binary_accuracy: 0.6814 - val_loss: 0.6730 - val_binary_accuracy: 0.6207\n",
            "Epoch 21/50\n",
            "4/4 [==============================] - 1s 152ms/step - loss: 0.6418 - binary_accuracy: 0.6283 - val_loss: 0.6715 - val_binary_accuracy: 0.6207\n",
            "Epoch 22/50\n",
            "4/4 [==============================] - 1s 158ms/step - loss: 0.6369 - binary_accuracy: 0.6637 - val_loss: 0.6728 - val_binary_accuracy: 0.5862\n",
            "Epoch 23/50\n",
            "4/4 [==============================] - 1s 151ms/step - loss: 0.6521 - binary_accuracy: 0.6726 - val_loss: 0.6695 - val_binary_accuracy: 0.6207\n",
            "Epoch 24/50\n",
            "4/4 [==============================] - 1s 152ms/step - loss: 0.6622 - binary_accuracy: 0.6726 - val_loss: 0.6658 - val_binary_accuracy: 0.6207\n",
            "Epoch 25/50\n",
            "4/4 [==============================] - 1s 158ms/step - loss: 0.6292 - binary_accuracy: 0.6814 - val_loss: 0.6715 - val_binary_accuracy: 0.5862\n",
            "Epoch 26/50\n",
            "4/4 [==============================] - 1s 150ms/step - loss: 0.6297 - binary_accuracy: 0.6726 - val_loss: 0.6724 - val_binary_accuracy: 0.5862\n",
            "Epoch 27/50\n",
            "4/4 [==============================] - 1s 154ms/step - loss: 0.6205 - binary_accuracy: 0.6726 - val_loss: 0.6706 - val_binary_accuracy: 0.5862\n",
            "Epoch 28/50\n",
            "4/4 [==============================] - 1s 151ms/step - loss: 0.6344 - binary_accuracy: 0.6814 - val_loss: 0.6673 - val_binary_accuracy: 0.6207\n",
            "Epoch 29/50\n",
            "4/4 [==============================] - 1s 152ms/step - loss: 0.6183 - binary_accuracy: 0.6814 - val_loss: 0.6668 - val_binary_accuracy: 0.6207\n",
            "Epoch 30/50\n",
            "4/4 [==============================] - 1s 155ms/step - loss: 0.6065 - binary_accuracy: 0.7257 - val_loss: 0.6683 - val_binary_accuracy: 0.6207\n",
            "Epoch 31/50\n",
            "4/4 [==============================] - 1s 155ms/step - loss: 0.6074 - binary_accuracy: 0.7522 - val_loss: 0.6711 - val_binary_accuracy: 0.6207\n",
            "Epoch 32/50\n",
            "4/4 [==============================] - 1s 157ms/step - loss: 0.6285 - binary_accuracy: 0.6549 - val_loss: 0.6703 - val_binary_accuracy: 0.6207\n",
            "Epoch 33/50\n",
            "4/4 [==============================] - 1s 160ms/step - loss: 0.6246 - binary_accuracy: 0.6283 - val_loss: 0.6774 - val_binary_accuracy: 0.5862\n",
            "Epoch 34/50\n",
            "4/4 [==============================] - 1s 156ms/step - loss: 0.6024 - binary_accuracy: 0.7257 - val_loss: 0.6820 - val_binary_accuracy: 0.5862\n",
            "Epoch 35/50\n",
            "4/4 [==============================] - 1s 155ms/step - loss: 0.6412 - binary_accuracy: 0.6726 - val_loss: 0.6762 - val_binary_accuracy: 0.5862\n",
            "Epoch 36/50\n",
            "4/4 [==============================] - 1s 150ms/step - loss: 0.6368 - binary_accuracy: 0.6903 - val_loss: 0.6690 - val_binary_accuracy: 0.6207\n",
            "Epoch 37/50\n",
            "4/4 [==============================] - 1s 154ms/step - loss: 0.6234 - binary_accuracy: 0.6637 - val_loss: 0.6670 - val_binary_accuracy: 0.6207\n",
            "Epoch 38/50\n",
            "4/4 [==============================] - 1s 154ms/step - loss: 0.6272 - binary_accuracy: 0.6460 - val_loss: 0.6686 - val_binary_accuracy: 0.6207\n",
            "Epoch 39/50\n",
            "4/4 [==============================] - 1s 152ms/step - loss: 0.6299 - binary_accuracy: 0.6637 - val_loss: 0.6721 - val_binary_accuracy: 0.6207\n",
            "Epoch 40/50\n",
            "4/4 [==============================] - 1s 152ms/step - loss: 0.6077 - binary_accuracy: 0.6991 - val_loss: 0.6779 - val_binary_accuracy: 0.6207\n",
            "Epoch 41/50\n",
            "4/4 [==============================] - 1s 153ms/step - loss: 0.6381 - binary_accuracy: 0.6637 - val_loss: 0.6709 - val_binary_accuracy: 0.6207\n",
            "Epoch 42/50\n",
            "4/4 [==============================] - 1s 153ms/step - loss: 0.6130 - binary_accuracy: 0.6991 - val_loss: 0.6607 - val_binary_accuracy: 0.5862\n",
            "Epoch 43/50\n",
            "4/4 [==============================] - 1s 155ms/step - loss: 0.6168 - binary_accuracy: 0.6814 - val_loss: 0.6597 - val_binary_accuracy: 0.5862\n",
            "Epoch 44/50\n",
            "4/4 [==============================] - 1s 153ms/step - loss: 0.6181 - binary_accuracy: 0.6460 - val_loss: 0.6602 - val_binary_accuracy: 0.5862\n",
            "Epoch 45/50\n",
            "4/4 [==============================] - 1s 153ms/step - loss: 0.5806 - binary_accuracy: 0.7345 - val_loss: 0.6614 - val_binary_accuracy: 0.6207\n",
            "Epoch 46/50\n",
            "4/4 [==============================] - 1s 151ms/step - loss: 0.5766 - binary_accuracy: 0.7257 - val_loss: 0.6675 - val_binary_accuracy: 0.6207\n",
            "Epoch 47/50\n",
            "4/4 [==============================] - 1s 150ms/step - loss: 0.5793 - binary_accuracy: 0.7699 - val_loss: 0.6715 - val_binary_accuracy: 0.5862\n",
            "Epoch 48/50\n",
            "4/4 [==============================] - 1s 155ms/step - loss: 0.6085 - binary_accuracy: 0.6637 - val_loss: 0.6634 - val_binary_accuracy: 0.6207\n",
            "Epoch 49/50\n",
            "4/4 [==============================] - 1s 155ms/step - loss: 0.5877 - binary_accuracy: 0.6903 - val_loss: 0.6678 - val_binary_accuracy: 0.6207\n",
            "Epoch 50/50\n",
            "4/4 [==============================] - 1s 156ms/step - loss: 0.5713 - binary_accuracy: 0.7080 - val_loss: 0.6698 - val_binary_accuracy: 0.6207\n"
          ]
        }
      ]
    }
  ]
}