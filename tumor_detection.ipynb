{
  "nbformat": 4,
  "nbformat_minor": 0,
  "metadata": {
    "colab": {
      "name": "tumor_detection.ipynb",
      "provenance": [],
      "collapsed_sections": [],
      "authorship_tag": "ABX9TyNkYWvfGRmE9xIFSEvyDLWY",
      "include_colab_link": true
    },
    "kernelspec": {
      "name": "python3",
      "display_name": "Python 3"
    },
    "language_info": {
      "name": "python"
    }
  },
  "cells": [
    {
      "cell_type": "markdown",
      "metadata": {
        "id": "view-in-github",
        "colab_type": "text"
      },
      "source": [
        "<a href=\"https://colab.research.google.com/github/nehapokharel/brain-tumor-detection/blob/main/tumor_detection.ipynb\" target=\"_parent\"><img src=\"https://colab.research.google.com/assets/colab-badge.svg\" alt=\"Open In Colab\"/></a>"
      ]
    },
    {
      "cell_type": "code",
      "metadata": {
        "id": "hR24aezAIyn4"
      },
      "source": [
        "#importing necessary libraries\n",
        "import os\n",
        "import numpy as np\n",
        "import pandas as pd\n",
        "from google.colab import drive\n",
        "import matplotlib.pyplot as plt\n",
        "import tensorflow.keras as keras\n",
        "from sklearn.model_selection import train_test_split\n",
        "from sklearn.preprocessing import MultiLabelBinarizer\n",
        "from keras.layers.core import Dense, Dropout, Activation, Flatten\n",
        "from keras.layers.convolutional import Convolution2D, MaxPooling2D"
      ],
      "execution_count": 1,
      "outputs": []
    },
    {
      "cell_type": "code",
      "metadata": {
        "colab": {
          "base_uri": "https://localhost:8080/"
        },
        "id": "Bdk1XgciLC00",
        "outputId": "4c86191d-c73d-4820-edfd-b538cd6e735b"
      },
      "source": [
        "#making content of google drive accessible\n",
        "drive.mount(\"/content/gdrive\")"
      ],
      "execution_count": 2,
      "outputs": [
        {
          "output_type": "stream",
          "name": "stdout",
          "text": [
            "Mounted at /content/gdrive\n"
          ]
        }
      ]
    },
    {
      "cell_type": "code",
      "metadata": {
        "colab": {
          "base_uri": "https://localhost:8080/"
        },
        "id": "6MwJaFgULJYl",
        "outputId": "b64f8b0a-ee5d-46f7-c5ef-d5ea5389537c"
      },
      "source": [
        "!ls \"gdrive/MyDrive/MRI_BRAIN_TUMOR/dataset\""
      ],
      "execution_count": 3,
      "outputs": [
        {
          "output_type": "stream",
          "name": "stdout",
          "text": [
            "no  yes\n"
          ]
        }
      ]
    },
    {
      "cell_type": "code",
      "metadata": {
        "id": "RW8HLDqXLSzZ"
      },
      "source": [
        "classes = [\"yes\", \"no\"]\n",
        "n_classes = len(classes)"
      ],
      "execution_count": 4,
      "outputs": []
    },
    {
      "cell_type": "code",
      "metadata": {
        "id": "mW9y4VJURryU"
      },
      "source": [
        "def load_data():\n",
        "    \"\"\"This function loads the data and prepares it to be \n",
        "    used by th neneural network. It consists of:\n",
        "        1. loading images\n",
        "        2. `normalization`. Original pixel values are in range [0, 255], \n",
        "           but neural networks usually work better if the input values are in\n",
        "           range [0, 1]. \"\"\"  \n",
        "    x = []\n",
        "    y = []\n",
        "    path = \"gdrive/MyDrive/MRI_BRAIN_TUMOR/dataset\"\n",
        "    for i, c in enumerate(classes):\n",
        "        for file in os.listdir(os.path.join(path, c)):\n",
        "            if file.endswith(\".jpeg\") or file.endswith(\".jpg\"):\n",
        "                img = plt.imread(os.path.join(path, c, file))\n",
        "                img = img / 255.\n",
        "                x.append(img)\n",
        "                y.append(i)\n",
        "    return x, y"
      ],
      "execution_count": 5,
      "outputs": []
    },
    {
      "cell_type": "code",
      "metadata": {
        "id": "hh5oyyZoRxyK"
      },
      "source": [
        "x, y = load_data() #function call"
      ],
      "execution_count": 6,
      "outputs": []
    },
    {
      "cell_type": "code",
      "metadata": {
        "id": "-bXy-yfTSWBA"
      },
      "source": [
        "#Splitting the dataset into train and test dataset\n",
        "x_train, X_test, y_train, y_test = train_test_split(x, y, test_size=0.2, shuffle=True, random_state=42)"
      ],
      "execution_count": 7,
      "outputs": []
    },
    {
      "cell_type": "markdown",
      "metadata": {
        "id": "xpc3-TLAUnjf"
      },
      "source": [
        "# **Data Augmentation**\n",
        "\n"
      ]
    },
    {
      "cell_type": "code",
      "metadata": {
        "id": "OlV6nghF8p2A"
      },
      "source": [
        "X_train = []\n",
        "X_train += x_train"
      ],
      "execution_count": 8,
      "outputs": []
    },
    {
      "cell_type": "markdown",
      "metadata": {
        "id": "vgKFfLaQUOTk"
      },
      "source": [
        "**numpy.flip(m, axis=None)**\n",
        "\n",
        "\n",
        "Reverse the order of elements in an array along the given axis.\n",
        "\n",
        "The shape of the array is preserved, but the elements are reordered.\n",
        "\n",
        "\n",
        "Parameters\n",
        "m: Input array."
      ]
    },
    {
      "cell_type": "markdown",
      "metadata": {
        "id": "ES04HBN7jk3a"
      },
      "source": [
        "**Horizontal flip**\n",
        "\n"
      ]
    },
    {
      "cell_type": "code",
      "metadata": {
        "id": "ZhgciQt0jZuV"
      },
      "source": [
        "for i in range(len(x_train)):\n",
        "  X_train.append(np.flip(x_train[i], axis=1))\n",
        "  y_train.append(y_train[i])"
      ],
      "execution_count": 9,
      "outputs": []
    },
    {
      "cell_type": "markdown",
      "metadata": {
        "id": "dVrI_bYHjzR3"
      },
      "source": [
        "**Vertical flip**\n",
        "\n"
      ]
    },
    {
      "cell_type": "code",
      "metadata": {
        "id": "mzXIxeacjy3b"
      },
      "source": [
        "for i in range(len(x_train)):\n",
        "  X_train.append(np.flip(x_train[i], axis=0))\n",
        "  y_train.append(y_train[i])"
      ],
      "execution_count": 10,
      "outputs": []
    },
    {
      "cell_type": "markdown",
      "metadata": {
        "id": "71PuMMFiU567"
      },
      "source": [
        "**numpy.rot90(m, k=1, axes=(0, 1))**\n",
        "\n",
        "Rotate an array by 90 degrees in the plane specified by axes.\n",
        "\n",
        "Rotation direction is from the first towards the second axis.\n",
        "\n",
        "Parameters\n",
        "marray_like:Array of two or more dimensions.\n",
        "\n",
        "kinteger:Number of times the array is rotated by 90 degrees."
      ]
    },
    {
      "cell_type": "markdown",
      "metadata": {
        "id": "jS1Czr_RnfCo"
      },
      "source": [
        "**Vertical rotation**"
      ]
    },
    {
      "cell_type": "code",
      "metadata": {
        "id": "1ff-OiW9ncjG"
      },
      "source": [
        "for i in range(len(x_train)):\n",
        "  X_train.append(np.rot90(x_train[i], k=1, axes=(0, 1)))\n",
        "  y_train.append(y_train[i])"
      ],
      "execution_count": 11,
      "outputs": []
    },
    {
      "cell_type": "markdown",
      "metadata": {
        "id": "0pZvhehZkE5_"
      },
      "source": [
        "# **Converting lists to numpy array**"
      ]
    },
    {
      "cell_type": "code",
      "metadata": {
        "id": "5Mz0ByTvkEAd"
      },
      "source": [
        "X_train=np.array(X_train)\n",
        "X_test=np.array(X_test)"
      ],
      "execution_count": null,
      "outputs": []
    },
    {
      "cell_type": "code",
      "metadata": {
        "id": "9SJc6J1RkSE7"
      },
      "source": [
        "y_train = np.array(y_train)\n",
        "y_test = np.array(y_test)"
      ],
      "execution_count": 13,
      "outputs": []
    }
  ]
}