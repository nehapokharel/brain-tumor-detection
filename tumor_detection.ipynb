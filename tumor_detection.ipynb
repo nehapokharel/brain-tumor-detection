{
  "nbformat": 4,
  "nbformat_minor": 0,
  "metadata": {
    "colab": {
      "name": "tumor_detection.ipynb",
      "provenance": [],
      "collapsed_sections": [],
      "authorship_tag": "ABX9TyOeBnr73w5pisGuzZ83ZK3z",
      "include_colab_link": true
    },
    "kernelspec": {
      "name": "python3",
      "display_name": "Python 3"
    },
    "language_info": {
      "name": "python"
    }
  },
  "cells": [
    {
      "cell_type": "markdown",
      "metadata": {
        "id": "view-in-github",
        "colab_type": "text"
      },
      "source": [
        "<a href=\"https://colab.research.google.com/github/nehapokharel/practice_1/blob/main/tumor_detection.ipynb\" target=\"_parent\"><img src=\"https://colab.research.google.com/assets/colab-badge.svg\" alt=\"Open In Colab\"/></a>"
      ]
    },
    {
      "cell_type": "code",
      "metadata": {
        "id": "hR24aezAIyn4"
      },
      "source": [
        "#importing necessary libraries\n",
        "import os\n",
        "import numpy as np\n",
        "import pandas as pd\n",
        "from google.colab import drive\n",
        "import matplotlib.pyplot as plt"
      ],
      "execution_count": null,
      "outputs": []
    },
    {
      "cell_type": "code",
      "metadata": {
        "colab": {
          "base_uri": "https://localhost:8080/"
        },
        "id": "Bdk1XgciLC00",
        "outputId": "567404fe-d4cc-431a-ed75-601f08438e87"
      },
      "source": [
        "#making content of google drive accessible\n",
        "drive.mount(\"/content/gdrive\")"
      ],
      "execution_count": null,
      "outputs": [
        {
          "output_type": "stream",
          "text": [
            "Mounted at /content/gdrive\n"
          ],
          "name": "stdout"
        }
      ]
    },
    {
      "cell_type": "code",
      "metadata": {
        "colab": {
          "base_uri": "https://localhost:8080/"
        },
        "id": "6MwJaFgULJYl",
        "outputId": "68b29adf-b0e8-4815-ecec-62ec766c676d"
      },
      "source": [
        "!ls \"gdrive/MyDrive/MRI_BRAIN_TUMOR/dataset\""
      ],
      "execution_count": null,
      "outputs": [
        {
          "output_type": "stream",
          "text": [
            "no  yes\n"
          ],
          "name": "stdout"
        }
      ]
    },
    {
      "cell_type": "code",
      "metadata": {
        "id": "RW8HLDqXLSzZ"
      },
      "source": [
        "classes = [\"yes\", \"no\"]\n",
        "n_classes = len(classes)"
      ],
      "execution_count": null,
      "outputs": []
    },
    {
      "cell_type": "code",
      "metadata": {
        "id": "mW9y4VJURryU"
      },
      "source": [
        "def load_data():\n",
        "    \"\"\"This function loads the data and prepares it to be \n",
        "    used by th neneural network. It consists of:\n",
        "        1. loading images\n",
        "        2. `normalization`. Original pixel values are in range [0, 255], \n",
        "           but neural networks usually work better if the input values are in\n",
        "           range [0, 1]. \"\"\"  \n",
        "    x = []\n",
        "    y = []\n",
        "    path = \"gdrive/MyDrive/MRI_BRAIN_TUMOR/dataset\"\n",
        "    for i, c in enumerate(classes):\n",
        "        for file in os.listdir(os.path.join(path, c)):\n",
        "            if file.endswith(\".jpeg\") or file.endswith(\".jpg\"):\n",
        "                img = plt.imread(os.path.join(path, c, file))\n",
        "                img = img / 255.\n",
        "                x.append(img)\n",
        "                y.append(i)\n",
        "    return x, y"
      ],
      "execution_count": null,
      "outputs": []
    },
    {
      "cell_type": "code",
      "metadata": {
        "id": "hh5oyyZoRxyK"
      },
      "source": [
        "x, y = load_data() #function call"
      ],
      "execution_count": null,
      "outputs": []
    },
    {
      "cell_type": "code",
      "metadata": {
        "colab": {
          "base_uri": "https://localhost:8080/"
        },
        "id": "0JDmnyNRSDO1",
        "outputId": "50780e9b-c09a-4c61-e7db-65ce522bb95f"
      },
      "source": [
        "print(\"Length of x\",len(x))\n",
        "print(\"Length of y\",len(y))"
      ],
      "execution_count": null,
      "outputs": [
        {
          "output_type": "stream",
          "text": [
            "Length of x 177\n",
            "Length of y 177\n"
          ],
          "name": "stdout"
        }
      ]
    }
  ]
}